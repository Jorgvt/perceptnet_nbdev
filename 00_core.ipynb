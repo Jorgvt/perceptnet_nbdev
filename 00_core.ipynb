{
 "cells": [
  {
   "cell_type": "code",
   "execution_count": null,
   "metadata": {},
   "outputs": [],
   "source": [
    "# default_exp core"
   ]
  },
  {
   "cell_type": "markdown",
   "metadata": {},
   "source": [
    "# kernelidentity\n",
    "\n",
    "> An identity matrix initializer for convolutional 2D kernels in Keras layers."
   ]
  },
  {
   "cell_type": "code",
   "execution_count": null,
   "metadata": {},
   "outputs": [],
   "source": [
    "#hide\n",
    "from nbdev.showdoc import *"
   ]
  },
  {
   "cell_type": "code",
   "execution_count": null,
   "metadata": {},
   "outputs": [],
   "source": [
    "#export\n",
    "import numpy as np\n",
    "import tensorflow as tf\n",
    "from tensorflow.keras import layers"
   ]
  },
  {
   "cell_type": "code",
   "execution_count": null,
   "metadata": {},
   "outputs": [],
   "source": [
    "#export\n",
    "\n",
    "class KernelIdentity(tf.keras.initializers.Initializer):\n",
    "    \"\"\"\n",
    "    Custom initializer to allow the initialization of convolutional 2D kernels\n",
    "    as identity matrixes for Conv2D layers in Keras.\n",
    "    \"\"\"\n",
    "    def __init__(self, gain=1):\n",
    "        self.gain = gain\n",
    "\n",
    "    def __call__(self, shape, dtype=None):\n",
    "        \"\"\"\n",
    "        shape has the form [Kx, Ky, Cin, Cout]\n",
    "        \"\"\"\n",
    "        identity_matrix = tf.eye(shape[0])*self.gain\n",
    "        identity_matrix = tf.expand_dims(identity_matrix, axis=-1)\n",
    "        identity_matrix = tf.expand_dims(identity_matrix, axis=-1)\n",
    "        identity_matrix = tf.repeat(identity_matrix, shape[2], axis=-2)\n",
    "        identity_matrix = tf.repeat(identity_matrix, shape[3], axis=-1)\n",
    "        return identity_matrix\n",
    "    \n",
    "    def get_config(self):\n",
    "        return {'gain':self.gain}"
   ]
  },
  {
   "cell_type": "markdown",
   "metadata": {},
   "source": [
    "## Use\n",
    "\n",
    "We can show how it works by creating a sample `Conv2D` layer and checking that the kernel is, indeed, initialized as an identity matrix:"
   ]
  },
  {
   "cell_type": "code",
   "execution_count": null,
   "metadata": {},
   "outputs": [
    {
     "data": {
      "text/plain": [
       "array([[1., 0., 0.],\n",
       "       [0., 1., 0.],\n",
       "       [0., 0., 1.]], dtype=float32)"
      ]
     },
     "execution_count": null,
     "metadata": {},
     "output_type": "execute_result"
    }
   ],
   "source": [
    "layer = layers.Conv2D(filters=1, kernel_size=3, kernel_initializer=KernelIdentity())\n",
    "layer.build(input_shape=(1,28,28,1))\n",
    "layer.weights[0].numpy().squeeze()"
   ]
  },
  {
   "cell_type": "code",
   "execution_count": null,
   "metadata": {},
   "outputs": [],
   "source": [
    "assert (layer.weights[0].numpy().squeeze() == np.eye(3)).all()"
   ]
  }
 ],
 "metadata": {
  "kernelspec": {
   "display_name": "Python 3",
   "language": "python",
   "name": "python3"
  }
 },
 "nbformat": 4,
 "nbformat_minor": 2
}
